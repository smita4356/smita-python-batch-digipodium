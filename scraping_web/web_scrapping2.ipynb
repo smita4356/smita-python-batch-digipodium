{
 "cells": [
  {
   "cell_type": "code",
   "execution_count": 1,
   "metadata": {},
   "outputs": [],
   "source": [
    "from selenium import webdriver\n",
    "from webdriver_manager.chrome import ChromeDriverManager\n",
    "from selenium.webdriver.common.keys import Keys"
   ]
  },
  {
   "cell_type": "code",
   "execution_count": 2,
   "metadata": {},
   "outputs": [
    {
     "name": "stderr",
     "output_type": "stream",
     "text": [
      "\n",
      "\n",
      "====== WebDriver manager ======\n",
      "Current google-chrome version is 95.0.4638\n",
      "Get LATEST chromedriver version for 95.0.4638 google-chrome\n",
      "Driver [C:\\Users\\HP\\.wdm\\drivers\\chromedriver\\win32\\95.0.4638.69\\chromedriver.exe] found in cache\n",
      "C:\\Users\\HP\\AppData\\Local\\Temp/ipykernel_15176/288656110.py:1: DeprecationWarning: executable_path has been deprecated, please pass in a Service object\n",
      "  driver = webdriver.Chrome(ChromeDriverManager().install())\n"
     ]
    }
   ],
   "source": [
    "\n",
    "driver = webdriver.Chrome(ChromeDriverManager().install())"
   ]
  },
  {
   "cell_type": "code",
   "execution_count": 4,
   "metadata": {},
   "outputs": [],
   "source": [
    "def get_fkrt_addr(query = 'bags',start_pos = 1):\n",
    "    url = 'https://www.flipkart.com/search'\n",
    "    param1 = f'q={query}'                       # item to be search\n",
    "    param2 = f'page={start_pos}'                # starting page\n",
    "    return f'{url}?{param1}&{param2}'"
   ]
  },
  {
   "cell_type": "code",
   "execution_count": 5,
   "metadata": {},
   "outputs": [],
   "source": [
    "driver.get(get_fkrt_addr('watches'))"
   ]
  },
  {
   "cell_type": "code",
   "execution_count": 6,
   "metadata": {},
   "outputs": [
    {
     "name": "stderr",
     "output_type": "stream",
     "text": [
      "C:\\Users\\HP\\AppData\\Local\\Temp/ipykernel_15176/2191359594.py:2: DeprecationWarning: find_elements_by_* commands are deprecated. Please use find_elements() instead\n",
      "  headings = driver.find_elements_by_css_selector('div._2WkVRV')\n"
     ]
    },
    {
     "name": "stdout",
     "output_type": "stream",
     "text": [
      "PIRASO\n",
      "PIRASO\n",
      "hrnt\n",
      "hala\n",
      "ANALOGUE\n",
      "hala\n",
      "LOIS CARON\n",
      "FOSSIL\n",
      "FOXTER\n",
      "ANALOGUE\n",
      "SKMEI\n",
      "SWADESI STUFF\n",
      "Fogg\n",
      "Rizzly\n",
      "CRAB\n",
      "FOSSIL\n",
      "SKMEI\n",
      "hala\n",
      "FOXTER\n",
      "ANALOGUE\n",
      "SPINOZA\n",
      "Fogg\n",
      "PIRASO\n",
      "M7 By Metronaut\n",
      "LIMESTONE\n",
      "LIMESTONE\n",
      "ALOGO\n",
      "FOSSIL\n",
      "LIMESTONE\n",
      "POLO HUNTER\n",
      "HMTr\n",
      "FOSSIL\n",
      "LORENZ\n",
      "XN XEEZOS\n",
      "Espoir\n",
      "PIRASO\n",
      "Happy Khajana\n",
      "Happy Khajana\n",
      "hala\n",
      "Rizzly\n"
     ]
    }
   ],
   "source": [
    "# just a test\n",
    "headings = driver.find_elements_by_css_selector('div._2WkVRV')\n",
    "for h in headings:print(h.text)"
   ]
  },
  {
   "cell_type": "code",
   "execution_count": 7,
   "metadata": {},
   "outputs": [
    {
     "data": {
      "text/plain": [
       "40"
      ]
     },
     "execution_count": 7,
     "metadata": {},
     "output_type": "execute_result"
    }
   ],
   "source": [
    "\n",
    "len(headings)"
   ]
  },
  {
   "cell_type": "code",
   "execution_count": 17,
   "metadata": {},
   "outputs": [],
   "source": [
    "# actual code\n",
    "\n",
    "def extract_page_data(driver):\n",
    "    data = []\n",
    "    cards = driver.find_elements_by_css_selector('div._1xHGtK._373qXS')\n",
    "    if len(cards)> 0:\n",
    "        for item in cards:\n",
    "            data.append(dict(\n",
    "                brand = item.find_element_by_css_selector('div._2WkVRV').text,\n",
    "                title = item.find_element_by_css_selector('a.IRpwTa').get_attribute('title'),\n",
    "                price = item.find_element_by_css_selector('div._30jeq3').text,\n",
    "            ))\n",
    "    return data"
   ]
  },
  {
   "cell_type": "code",
   "execution_count": 18,
   "metadata": {},
   "outputs": [],
   "source": [
    "def get_flipkart_data(search = 'bags',pos = 1,):\n",
    "    all_data= [] \n",
    "    while True:\n",
    "        addr = get_fkrt_addr(search, pos)\n",
    "        driver.get(addr)\n",
    "        data = extract_page_data(driver)\n",
    "        if len(data):\n",
    "            all_data.extend(data)\n",
    "            pos += 1\n",
    "        else:\n",
    "            break\n",
    "    return all_data"
   ]
  }
 ],
 "metadata": {
  "interpreter": {
   "hash": "c569cd2e17f62341e0f08a54f9a867c3c0d3a6f67454072d7de41a8b5dff8343"
  },
  "kernelspec": {
   "display_name": "Python 3.9.7 64-bit",
   "language": "python",
   "name": "python3"
  },
  "language_info": {
   "codemirror_mode": {
    "name": "ipython",
    "version": 3
   },
   "file_extension": ".py",
   "mimetype": "text/x-python",
   "name": "python",
   "nbconvert_exporter": "python",
   "pygments_lexer": "ipython3",
   "version": "3.9.7"
  },
  "orig_nbformat": 4
 },
 "nbformat": 4,
 "nbformat_minor": 2
}
